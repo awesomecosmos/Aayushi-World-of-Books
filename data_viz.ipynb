{
 "cells": [
  {
   "cell_type": "code",
   "execution_count": 36,
   "metadata": {},
   "outputs": [],
   "source": [
    "import numpy as np\n",
    "import pandas as pd\n",
    "import matplotlib.pyplot as plt\n",
    "from utils import *"
   ]
  },
  {
   "cell_type": "code",
   "execution_count": 38,
   "metadata": {},
   "outputs": [
    {
     "data": {
      "text/html": [
       "<div>\n",
       "<style scoped>\n",
       "    .dataframe tbody tr th:only-of-type {\n",
       "        vertical-align: middle;\n",
       "    }\n",
       "\n",
       "    .dataframe tbody tr th {\n",
       "        vertical-align: top;\n",
       "    }\n",
       "\n",
       "    .dataframe thead th {\n",
       "        text-align: right;\n",
       "    }\n",
       "</style>\n",
       "<table border=\"1\" class=\"dataframe\">\n",
       "  <thead>\n",
       "    <tr style=\"text-align: right;\">\n",
       "      <th></th>\n",
       "      <th>Title</th>\n",
       "      <th>Author l-f</th>\n",
       "      <th>Additional Authors</th>\n",
       "      <th>ISBN</th>\n",
       "      <th>ISBN13</th>\n",
       "      <th>Publisher</th>\n",
       "      <th>Binding</th>\n",
       "      <th>Number of Pages</th>\n",
       "      <th>Year Published</th>\n",
       "      <th>Original Publication Year</th>\n",
       "      <th>Year Read</th>\n",
       "      <th>user_genre</th>\n",
       "      <th>fiction_status</th>\n",
       "      <th>user_tags</th>\n",
       "      <th>ownership_status</th>\n",
       "      <th>buy?</th>\n",
       "    </tr>\n",
       "  </thead>\n",
       "  <tbody>\n",
       "    <tr>\n",
       "      <th>0</th>\n",
       "      <td>Blubber</td>\n",
       "      <td>Blume, Judy</td>\n",
       "      <td>NaN</td>\n",
       "      <td>NaN</td>\n",
       "      <td>NaN</td>\n",
       "      <td>Macmillan Children's Books</td>\n",
       "      <td>Paperback</td>\n",
       "      <td>127.0</td>\n",
       "      <td>2006.0</td>\n",
       "      <td>1974.0</td>\n",
       "      <td>2007.0</td>\n",
       "      <td>NaN</td>\n",
       "      <td>fiction</td>\n",
       "      <td>NaN</td>\n",
       "      <td>NaN</td>\n",
       "      <td>y</td>\n",
       "    </tr>\n",
       "    <tr>\n",
       "      <th>1</th>\n",
       "      <td>The Secret Garden</td>\n",
       "      <td>Burnett, Frances Hodgson</td>\n",
       "      <td>NaN</td>\n",
       "      <td>0517189607</td>\n",
       "      <td>9.780517e+12</td>\n",
       "      <td>Children's Classics</td>\n",
       "      <td>Hardcover</td>\n",
       "      <td>331.0</td>\n",
       "      <td>1998.0</td>\n",
       "      <td>1911.0</td>\n",
       "      <td>2007.0</td>\n",
       "      <td>NaN</td>\n",
       "      <td>fiction</td>\n",
       "      <td>NaN</td>\n",
       "      <td>NaN</td>\n",
       "      <td>y</td>\n",
       "    </tr>\n",
       "    <tr>\n",
       "      <th>2</th>\n",
       "      <td>Discount Diva (Zodiac Girls, #3)</td>\n",
       "      <td>Hopkins, Cathy</td>\n",
       "      <td>NaN</td>\n",
       "      <td>0753461315</td>\n",
       "      <td>9.780753e+12</td>\n",
       "      <td>Kingfisher</td>\n",
       "      <td>Paperback</td>\n",
       "      <td>184.0</td>\n",
       "      <td>2007.0</td>\n",
       "      <td>2006.0</td>\n",
       "      <td>2012.0</td>\n",
       "      <td>NaN</td>\n",
       "      <td>fiction</td>\n",
       "      <td>NaN</td>\n",
       "      <td>NaN</td>\n",
       "      <td>NaN</td>\n",
       "    </tr>\n",
       "    <tr>\n",
       "      <th>3</th>\n",
       "      <td>Letters from the Inside</td>\n",
       "      <td>Marsden, John</td>\n",
       "      <td>NaN</td>\n",
       "      <td>0330397761</td>\n",
       "      <td>9.780330e+12</td>\n",
       "      <td>NaN</td>\n",
       "      <td>NaN</td>\n",
       "      <td>144.0</td>\n",
       "      <td>NaN</td>\n",
       "      <td>1991.0</td>\n",
       "      <td>2013.0</td>\n",
       "      <td>NaN</td>\n",
       "      <td>fiction</td>\n",
       "      <td>NaN</td>\n",
       "      <td>NaN</td>\n",
       "      <td>NaN</td>\n",
       "    </tr>\n",
       "    <tr>\n",
       "      <th>4</th>\n",
       "      <td>Outside In</td>\n",
       "      <td>Keighery, Chrissie</td>\n",
       "      <td>NaN</td>\n",
       "      <td>1921502363</td>\n",
       "      <td>9.781922e+12</td>\n",
       "      <td>Hardie Grant Egmont</td>\n",
       "      <td>Paperback</td>\n",
       "      <td>183.0</td>\n",
       "      <td>2012.0</td>\n",
       "      <td>2009.0</td>\n",
       "      <td>2013.0</td>\n",
       "      <td>NaN</td>\n",
       "      <td>fiction</td>\n",
       "      <td>NaN</td>\n",
       "      <td>NaN</td>\n",
       "      <td>NaN</td>\n",
       "    </tr>\n",
       "  </tbody>\n",
       "</table>\n",
       "</div>"
      ],
      "text/plain": [
       "                              Title                Author l-f  \\\n",
       "0                           Blubber               Blume, Judy   \n",
       "1                 The Secret Garden  Burnett, Frances Hodgson   \n",
       "2  Discount Diva (Zodiac Girls, #3)            Hopkins, Cathy   \n",
       "3           Letters from the Inside             Marsden, John   \n",
       "4                        Outside In        Keighery, Chrissie   \n",
       "\n",
       "  Additional Authors        ISBN        ISBN13                   Publisher  \\\n",
       "0                NaN         NaN           NaN  Macmillan Children's Books   \n",
       "1                NaN  0517189607  9.780517e+12         Children's Classics   \n",
       "2                NaN  0753461315  9.780753e+12                  Kingfisher   \n",
       "3                NaN  0330397761  9.780330e+12                         NaN   \n",
       "4                NaN  1921502363  9.781922e+12         Hardie Grant Egmont   \n",
       "\n",
       "     Binding  Number of Pages  Year Published  Original Publication Year  \\\n",
       "0  Paperback            127.0          2006.0                     1974.0   \n",
       "1  Hardcover            331.0          1998.0                     1911.0   \n",
       "2  Paperback            184.0          2007.0                     2006.0   \n",
       "3        NaN            144.0             NaN                     1991.0   \n",
       "4  Paperback            183.0          2012.0                     2009.0   \n",
       "\n",
       "   Year Read user_genre fiction_status user_tags ownership_status buy?  \n",
       "0     2007.0        NaN        fiction       NaN              NaN    y  \n",
       "1     2007.0        NaN        fiction       NaN              NaN    y  \n",
       "2     2012.0        NaN        fiction       NaN              NaN  NaN  \n",
       "3     2013.0        NaN        fiction       NaN              NaN  NaN  \n",
       "4     2013.0        NaN        fiction       NaN              NaN  NaN  "
      ]
     },
     "execution_count": 38,
     "metadata": {},
     "output_type": "execute_result"
    }
   ],
   "source": [
    "df = read_books('data/simplified_book_list.xlsx')\n",
    "df.head()"
   ]
  },
  {
   "cell_type": "code",
   "execution_count": null,
   "metadata": {},
   "outputs": [],
   "source": [
    "# df = raw.drop(['Book Id','Author l-f', 'Additional Authors','My Rating', \n",
    "#                'Average Rating', 'Bookshelves with positions',\n",
    "#                'Exclusive Shelf', 'My Review', 'Spoiler', 'Private Notes'],\n",
    "#                axis=1)"
   ]
  },
  {
   "cell_type": "code",
   "execution_count": 39,
   "metadata": {},
   "outputs": [
    {
     "name": "stdout",
     "output_type": "stream",
     "text": [
      "Total books read: 266\n"
     ]
    }
   ],
   "source": [
    "total = df['Title'].count()\n",
    "print(f'Total books read: {total}')"
   ]
  },
  {
   "cell_type": "code",
   "execution_count": null,
   "metadata": {},
   "outputs": [],
   "source": [
    "grouped = df.groupby(['Year Published']).count()['Title']"
   ]
  },
  {
   "cell_type": "code",
   "execution_count": null,
   "metadata": {},
   "outputs": [],
   "source": [
    "tmp = df.groupby(['Original Publication Year']).count()['Title']\n",
    "\n",
    "plt.figure(figsize=(20,10))\n",
    "plt.bar(tmp.index, tmp.values)\n",
    "plt.title('Total Books Read by Year Published')\n",
    "plt.xlabel('Year')\n",
    "plt.ylabel('Number of Books Read')\n",
    "plt.grid(alpha=0.5)"
   ]
  },
  {
   "cell_type": "code",
   "execution_count": null,
   "metadata": {},
   "outputs": [],
   "source": [
    "tmp = df.groupby(['Original Publication Year']).sum()['Number of Pages']\n",
    "\n",
    "plt.figure(figsize=(20,10))\n",
    "plt.bar(tmp.index, tmp.values)\n",
    "plt.title('Total Pages Read by Year Published')\n",
    "plt.xlabel('Year')\n",
    "plt.ylabel('Number of Pages Read')\n",
    "plt.grid(alpha=0.5)"
   ]
  },
  {
   "cell_type": "code",
   "execution_count": null,
   "metadata": {},
   "outputs": [],
   "source": [
    "plt.figure(figsize=(20,10))\n",
    "plt.scatter(df['Year Read'], df['Original Publication Year'])\n",
    "plt.title('Year I Read Books vs Year Book was Published')\n",
    "plt.xlabel('Year I Read Book')\n",
    "plt.ylabel('Year Book was Published')\n",
    "plt.grid(alpha=0.5)"
   ]
  },
  {
   "cell_type": "code",
   "execution_count": null,
   "metadata": {},
   "outputs": [],
   "source": [
    "tmp = df[df['fiction_status']=='non-fiction'].groupby(['Year Published'])['fiction_status'].count()\n",
    "\n",
    "plt.figure(figsize=(20,10))\n",
    "plt.bar(tmp.index, tmp.values)\n",
    "plt.title('Number of Non-Fiction Books Read by Year Published')\n",
    "plt.xlabel('Year')\n",
    "plt.ylabel('Number of Non-Fiction Books Read')\n",
    "plt.grid(alpha=0.5)"
   ]
  },
  {
   "cell_type": "code",
   "execution_count": null,
   "metadata": {},
   "outputs": [],
   "source": [
    "tmp = df[df['buy?']=='y'].groupby(['Original Publication Year'])['buy?'].count()\n",
    "\n",
    "plt.figure(figsize=(20,10))\n",
    "plt.bar(tmp.index, tmp.values)\n",
    "plt.title('Books I Want To Buy by Year Published')\n",
    "plt.xlabel('Year')\n",
    "plt.ylabel('Number of Books I Want To Buy')\n",
    "plt.grid(alpha=0.5)"
   ]
  }
 ],
 "metadata": {
  "kernelspec": {
   "display_name": "base",
   "language": "python",
   "name": "python3"
  },
  "language_info": {
   "codemirror_mode": {
    "name": "ipython",
    "version": 3
   },
   "file_extension": ".py",
   "mimetype": "text/x-python",
   "name": "python",
   "nbconvert_exporter": "python",
   "pygments_lexer": "ipython3",
   "version": "3.9.7"
  },
  "orig_nbformat": 4
 },
 "nbformat": 4,
 "nbformat_minor": 2
}
