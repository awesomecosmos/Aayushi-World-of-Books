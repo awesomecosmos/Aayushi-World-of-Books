{
 "cells": [
  {
   "cell_type": "code",
   "execution_count": 20,
   "metadata": {},
   "outputs": [],
   "source": [
    "import pandas as pd\n",
    "import matplotlib.pyplot as plt"
   ]
  },
  {
   "cell_type": "code",
   "execution_count": 21,
   "metadata": {},
   "outputs": [],
   "source": [
    "raw = pd.read_excel('data/goodreads_library_export.xlsx')"
   ]
  },
  {
   "cell_type": "code",
   "execution_count": 22,
   "metadata": {},
   "outputs": [
    {
     "data": {
      "text/html": [
       "<div>\n",
       "<style scoped>\n",
       "    .dataframe tbody tr th:only-of-type {\n",
       "        vertical-align: middle;\n",
       "    }\n",
       "\n",
       "    .dataframe tbody tr th {\n",
       "        vertical-align: top;\n",
       "    }\n",
       "\n",
       "    .dataframe thead th {\n",
       "        text-align: right;\n",
       "    }\n",
       "</style>\n",
       "<table border=\"1\" class=\"dataframe\">\n",
       "  <thead>\n",
       "    <tr style=\"text-align: right;\">\n",
       "      <th></th>\n",
       "      <th>Book Id</th>\n",
       "      <th>Title</th>\n",
       "      <th>Author</th>\n",
       "      <th>Author l-f</th>\n",
       "      <th>Additional Authors</th>\n",
       "      <th>ISBN</th>\n",
       "      <th>ISBN13</th>\n",
       "      <th>My Rating</th>\n",
       "      <th>Average Rating</th>\n",
       "      <th>Publisher</th>\n",
       "      <th>...</th>\n",
       "      <th>Date Read</th>\n",
       "      <th>Date Added</th>\n",
       "      <th>Bookshelves</th>\n",
       "      <th>Bookshelves with positions</th>\n",
       "      <th>Exclusive Shelf</th>\n",
       "      <th>My Review</th>\n",
       "      <th>Spoiler</th>\n",
       "      <th>Private Notes</th>\n",
       "      <th>Read Count</th>\n",
       "      <th>Owned Copies</th>\n",
       "    </tr>\n",
       "  </thead>\n",
       "  <tbody>\n",
       "    <tr>\n",
       "      <th>0</th>\n",
       "      <td>3265644</td>\n",
       "      <td>Artificial Intelligence: A Modern Approach</td>\n",
       "      <td>Stuart Russell</td>\n",
       "      <td>Russell, Stuart</td>\n",
       "      <td>Peter Norvig</td>\n",
       "      <td>0136042597</td>\n",
       "      <td>9.780136e+12</td>\n",
       "      <td>0</td>\n",
       "      <td>4.19</td>\n",
       "      <td>Pearson</td>\n",
       "      <td>...</td>\n",
       "      <td>2023-01-31</td>\n",
       "      <td>2023-07-11</td>\n",
       "      <td>data-science</td>\n",
       "      <td>data-science (#3)</td>\n",
       "      <td>read</td>\n",
       "      <td>NaN</td>\n",
       "      <td>NaN</td>\n",
       "      <td>NaN</td>\n",
       "      <td>1</td>\n",
       "      <td>0</td>\n",
       "    </tr>\n",
       "    <tr>\n",
       "      <th>1</th>\n",
       "      <td>30422190</td>\n",
       "      <td>Data Mining: Practical Machine Learning Tools ...</td>\n",
       "      <td>Ian H. Witten</td>\n",
       "      <td>Witten, Ian H.</td>\n",
       "      <td>Eibe Frank, Mark A. Hall, Christopher J. Pal</td>\n",
       "      <td>0128042915</td>\n",
       "      <td>9.780128e+12</td>\n",
       "      <td>0</td>\n",
       "      <td>3.89</td>\n",
       "      <td>Morgan Kaufmann</td>\n",
       "      <td>...</td>\n",
       "      <td>2022-07-20</td>\n",
       "      <td>2023-07-11</td>\n",
       "      <td>data-science</td>\n",
       "      <td>data-science (#5)</td>\n",
       "      <td>read</td>\n",
       "      <td>NaN</td>\n",
       "      <td>NaN</td>\n",
       "      <td>NaN</td>\n",
       "      <td>1</td>\n",
       "      <td>0</td>\n",
       "    </tr>\n",
       "    <tr>\n",
       "      <th>2</th>\n",
       "      <td>17980991</td>\n",
       "      <td>Learning SPARQL: Querying and Updating with SP...</td>\n",
       "      <td>Bob DuCharme</td>\n",
       "      <td>DuCharme, Bob</td>\n",
       "      <td>NaN</td>\n",
       "      <td>1449371434</td>\n",
       "      <td>9.781449e+12</td>\n",
       "      <td>0</td>\n",
       "      <td>4.03</td>\n",
       "      <td>O'Reilly Media</td>\n",
       "      <td>...</td>\n",
       "      <td>2023-04-01</td>\n",
       "      <td>2023-07-11</td>\n",
       "      <td>data-science</td>\n",
       "      <td>data-science (#2)</td>\n",
       "      <td>read</td>\n",
       "      <td>NaN</td>\n",
       "      <td>NaN</td>\n",
       "      <td>NaN</td>\n",
       "      <td>1</td>\n",
       "      <td>0</td>\n",
       "    </tr>\n",
       "    <tr>\n",
       "      <th>3</th>\n",
       "      <td>50040746</td>\n",
       "      <td>Mathematics for Machine Learning</td>\n",
       "      <td>Marc Deisenroth</td>\n",
       "      <td>Deisenroth, Marc</td>\n",
       "      <td>A. Aldo Faisal, Cheng Soon Ong</td>\n",
       "      <td>110845514X</td>\n",
       "      <td>9.781108e+12</td>\n",
       "      <td>0</td>\n",
       "      <td>4.34</td>\n",
       "      <td>Cambridge University Press</td>\n",
       "      <td>...</td>\n",
       "      <td>2022-09-15</td>\n",
       "      <td>2023-07-11</td>\n",
       "      <td>data-science</td>\n",
       "      <td>data-science (#4)</td>\n",
       "      <td>read</td>\n",
       "      <td>NaN</td>\n",
       "      <td>NaN</td>\n",
       "      <td>NaN</td>\n",
       "      <td>1</td>\n",
       "      <td>0</td>\n",
       "    </tr>\n",
       "    <tr>\n",
       "      <th>4</th>\n",
       "      <td>29488592</td>\n",
       "      <td>Understanding Machine Learning: From Theory To...</td>\n",
       "      <td>CAMBRIDGE INDIA</td>\n",
       "      <td>INDIA, CAMBRIDGE</td>\n",
       "      <td>NaN</td>\n",
       "      <td>1107512824</td>\n",
       "      <td>9.781108e+12</td>\n",
       "      <td>0</td>\n",
       "      <td>4.21</td>\n",
       "      <td>Shai Shalev-Shwartz</td>\n",
       "      <td>...</td>\n",
       "      <td>2023-06-01</td>\n",
       "      <td>2023-07-11</td>\n",
       "      <td>data-science</td>\n",
       "      <td>data-science (#1)</td>\n",
       "      <td>read</td>\n",
       "      <td>NaN</td>\n",
       "      <td>NaN</td>\n",
       "      <td>NaN</td>\n",
       "      <td>1</td>\n",
       "      <td>0</td>\n",
       "    </tr>\n",
       "  </tbody>\n",
       "</table>\n",
       "<p>5 rows × 24 columns</p>\n",
       "</div>"
      ],
      "text/plain": [
       "    Book Id                                              Title  \\\n",
       "0   3265644         Artificial Intelligence: A Modern Approach   \n",
       "1  30422190  Data Mining: Practical Machine Learning Tools ...   \n",
       "2  17980991  Learning SPARQL: Querying and Updating with SP...   \n",
       "3  50040746                   Mathematics for Machine Learning   \n",
       "4  29488592  Understanding Machine Learning: From Theory To...   \n",
       "\n",
       "            Author        Author l-f  \\\n",
       "0   Stuart Russell   Russell, Stuart   \n",
       "1    Ian H. Witten    Witten, Ian H.   \n",
       "2     Bob DuCharme     DuCharme, Bob   \n",
       "3  Marc Deisenroth  Deisenroth, Marc   \n",
       "4  CAMBRIDGE INDIA  INDIA, CAMBRIDGE   \n",
       "\n",
       "                             Additional Authors        ISBN        ISBN13  \\\n",
       "0                                  Peter Norvig  0136042597  9.780136e+12   \n",
       "1  Eibe Frank, Mark A. Hall, Christopher J. Pal  0128042915  9.780128e+12   \n",
       "2                                           NaN  1449371434  9.781449e+12   \n",
       "3                A. Aldo Faisal, Cheng Soon Ong  110845514X  9.781108e+12   \n",
       "4                                           NaN  1107512824  9.781108e+12   \n",
       "\n",
       "   My Rating  Average Rating                   Publisher  ...  Date Read  \\\n",
       "0          0            4.19                     Pearson  ... 2023-01-31   \n",
       "1          0            3.89             Morgan Kaufmann  ... 2022-07-20   \n",
       "2          0            4.03              O'Reilly Media  ... 2023-04-01   \n",
       "3          0            4.34  Cambridge University Press  ... 2022-09-15   \n",
       "4          0            4.21         Shai Shalev-Shwartz  ... 2023-06-01   \n",
       "\n",
       "   Date Added   Bookshelves  Bookshelves with positions Exclusive Shelf  \\\n",
       "0  2023-07-11  data-science           data-science (#3)            read   \n",
       "1  2023-07-11  data-science           data-science (#5)            read   \n",
       "2  2023-07-11  data-science           data-science (#2)            read   \n",
       "3  2023-07-11  data-science           data-science (#4)            read   \n",
       "4  2023-07-11  data-science           data-science (#1)            read   \n",
       "\n",
       "  My Review Spoiler Private Notes Read Count  Owned Copies  \n",
       "0       NaN     NaN           NaN          1             0  \n",
       "1       NaN     NaN           NaN          1             0  \n",
       "2       NaN     NaN           NaN          1             0  \n",
       "3       NaN     NaN           NaN          1             0  \n",
       "4       NaN     NaN           NaN          1             0  \n",
       "\n",
       "[5 rows x 24 columns]"
      ]
     },
     "execution_count": 22,
     "metadata": {},
     "output_type": "execute_result"
    }
   ],
   "source": [
    "raw.head()"
   ]
  },
  {
   "cell_type": "code",
   "execution_count": 23,
   "metadata": {},
   "outputs": [
    {
     "data": {
      "text/plain": [
       "Index(['Book Id', 'Title', 'Author', 'Author l-f', 'Additional Authors',\n",
       "       'ISBN', 'ISBN13', 'My Rating', 'Average Rating', 'Publisher', 'Binding',\n",
       "       'Number of Pages', 'Year Published', 'Original Publication Year',\n",
       "       'Date Read', 'Date Added', 'Bookshelves', 'Bookshelves with positions',\n",
       "       'Exclusive Shelf', 'My Review', 'Spoiler', 'Private Notes',\n",
       "       'Read Count', 'Owned Copies'],\n",
       "      dtype='object')"
      ]
     },
     "execution_count": 23,
     "metadata": {},
     "output_type": "execute_result"
    }
   ],
   "source": [
    "raw.columns"
   ]
  },
  {
   "cell_type": "code",
   "execution_count": 32,
   "metadata": {},
   "outputs": [
    {
     "data": {
      "text/plain": [
       "(266, 24)"
      ]
     },
     "execution_count": 32,
     "metadata": {},
     "output_type": "execute_result"
    }
   ],
   "source": [
    "raw.shape"
   ]
  },
  {
   "cell_type": "code",
   "execution_count": 24,
   "metadata": {},
   "outputs": [],
   "source": [
    "df = raw.drop(['Book Id','Author l-f', 'Additional Authors','My Rating', \n",
    "               'Average Rating', 'Bookshelves with positions',\n",
    "               'Exclusive Shelf', 'My Review', 'Spoiler', 'Private Notes'],\n",
    "               axis=1)"
   ]
  },
  {
   "cell_type": "code",
   "execution_count": 25,
   "metadata": {},
   "outputs": [],
   "source": [
    "df = df.drop_duplicates()"
   ]
  },
  {
   "cell_type": "code",
   "execution_count": 36,
   "metadata": {},
   "outputs": [],
   "source": [
    "grouped = df.groupby(['Year Published']).count()['Title']"
   ]
  },
  {
   "cell_type": "code",
   "execution_count": 40,
   "metadata": {},
   "outputs": [
    {
     "data": {
      "text/html": [
       "<div>\n",
       "<style scoped>\n",
       "    .dataframe tbody tr th:only-of-type {\n",
       "        vertical-align: middle;\n",
       "    }\n",
       "\n",
       "    .dataframe tbody tr th {\n",
       "        vertical-align: top;\n",
       "    }\n",
       "\n",
       "    .dataframe thead th {\n",
       "        text-align: right;\n",
       "    }\n",
       "</style>\n",
       "<table border=\"1\" class=\"dataframe\">\n",
       "  <thead>\n",
       "    <tr style=\"text-align: right;\">\n",
       "      <th></th>\n",
       "      <th>Title</th>\n",
       "      <th>Author</th>\n",
       "      <th>ISBN</th>\n",
       "      <th>ISBN13</th>\n",
       "      <th>Publisher</th>\n",
       "      <th>Binding</th>\n",
       "      <th>Number of Pages</th>\n",
       "      <th>Year Published</th>\n",
       "      <th>Original Publication Year</th>\n",
       "      <th>Date Read</th>\n",
       "      <th>Date Added</th>\n",
       "      <th>Bookshelves</th>\n",
       "      <th>Read Count</th>\n",
       "      <th>Owned Copies</th>\n",
       "    </tr>\n",
       "  </thead>\n",
       "  <tbody>\n",
       "    <tr>\n",
       "      <th>79</th>\n",
       "      <td>The Academy - Thief: Volume 1 (The Scarab Beet...</td>\n",
       "      <td>C.L. Stone</td>\n",
       "      <td>NaN</td>\n",
       "      <td>NaN</td>\n",
       "      <td>CreateSpace Independent Publishing Platform (2...</td>\n",
       "      <td>Paperback</td>\n",
       "      <td>NaN</td>\n",
       "      <td>1656.0</td>\n",
       "      <td>2014.0</td>\n",
       "      <td>NaT</td>\n",
       "      <td>2023-08-03</td>\n",
       "      <td>NaN</td>\n",
       "      <td>1</td>\n",
       "      <td>0</td>\n",
       "    </tr>\n",
       "  </tbody>\n",
       "</table>\n",
       "</div>"
      ],
      "text/plain": [
       "                                                Title      Author ISBN  \\\n",
       "79  The Academy - Thief: Volume 1 (The Scarab Beet...  C.L. Stone  NaN   \n",
       "\n",
       "    ISBN13                                          Publisher    Binding  \\\n",
       "79     NaN  CreateSpace Independent Publishing Platform (2...  Paperback   \n",
       "\n",
       "    Number of Pages  Year Published  Original Publication Year Date Read  \\\n",
       "79              NaN          1656.0                     2014.0       NaT   \n",
       "\n",
       "   Date Added Bookshelves  Read Count  Owned Copies  \n",
       "79 2023-08-03         NaN           1             0  "
      ]
     },
     "execution_count": 40,
     "metadata": {},
     "output_type": "execute_result"
    }
   ],
   "source": [
    "df[df['Year Published']==1656.0]"
   ]
  },
  {
   "cell_type": "code",
   "execution_count": 41,
   "metadata": {},
   "outputs": [],
   "source": [
    "df.loc[79,['Year Published']] = 2014.0"
   ]
  },
  {
   "cell_type": "code",
   "execution_count": 43,
   "metadata": {},
   "outputs": [],
   "source": []
  },
  {
   "cell_type": "code",
   "execution_count": 47,
   "metadata": {},
   "outputs": [],
   "source": []
  },
  {
   "cell_type": "code",
   "execution_count": 78,
   "metadata": {},
   "outputs": [
    {
     "data": {
      "image/png": "[encoded data removed]",
      "text/plain": [
       "<Figure size 1440x720 with 1 Axes>"
      ]
     },
     "metadata": {
      "needs_background": "light"
     },
     "output_type": "display_data"
    }
   ],
   "source": [
    "tmp = df.groupby(['Original Publication Year']).count()['Title']\n",
    "\n",
    "plt.figure(figsize=(20,10))\n",
    "plt.bar(tmp.index, tmp.values)\n",
    "plt.title('Total Books Read by Year Published')\n",
    "plt.xlabel('Year')\n",
    "plt.ylabel('Number of Books Read')\n",
    "plt.grid(alpha=0.5)"
   ]
  },
  {
   "cell_type": "code",
   "execution_count": 81,
   "metadata": {},
   "outputs": [
    {
     "data": {
      "image/png": "[encoded data removed]",
      "text/plain": [
       "<Figure size 1440x720 with 1 Axes>"
      ]
     },
     "metadata": {
      "needs_background": "light"
     },
     "output_type": "display_data"
    }
   ],
   "source": [
    "tmp = df.groupby(['Original Publication Year']).sum()['Number of Pages']\n",
    "\n",
    "plt.figure(figsize=(20,10))\n",
    "plt.bar(tmp.index, tmp.values)\n",
    "plt.title('Total Pages Read by Year Published')\n",
    "plt.xlabel('Year')\n",
    "plt.ylabel('Number of Pages Read')\n",
    "plt.grid(alpha=0.5)"
   ]
  }
 ],
 "metadata": {
  "kernelspec": {
   "display_name": "base",
   "language": "python",
   "name": "python3"
  },
  "language_info": {
   "codemirror_mode": {
    "name": "ipython",
    "version": 3
   },
   "file_extension": ".py",
   "mimetype": "text/x-python",
   "name": "python",
   "nbconvert_exporter": "python",
   "pygments_lexer": "ipython3",
   "version": "3.9.7"
  },
  "orig_nbformat": 4
 },
 "nbformat": 4,
 "nbformat_minor": 2
}
