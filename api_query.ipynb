{
 "cells": [
  {
   "cell_type": "code",
   "execution_count": 9,
   "metadata": {},
   "outputs": [],
   "source": [
    "import requests\n",
    "import json"
   ]
  },
  {
   "cell_type": "code",
   "execution_count": 2,
   "metadata": {},
   "outputs": [],
   "source": [
    "def isbn_request(isbn):\n",
    "    return f'https://openlibrary.org/isbn/{isbn}.json'"
   ]
  },
  {
   "cell_type": "code",
   "execution_count": 49,
   "metadata": {},
   "outputs": [],
   "source": [
    "my_request = isbn_request('9781250012579')"
   ]
  },
  {
   "cell_type": "code",
   "execution_count": 50,
   "metadata": {},
   "outputs": [],
   "source": [
    "response = requests.get(my_request)"
   ]
  },
  {
   "cell_type": "code",
   "execution_count": 51,
   "metadata": {},
   "outputs": [
    {
     "name": "stdout",
     "output_type": "stream",
     "text": [
      "{'works': [{'key': '/works/OL16803752W'}], 'title': 'Eleanor & Park', 'publishers': [\"St. Martin's Griffin\"], 'publish_date': '2013', 'key': '/books/OL37793627M', 'type': {'key': '/type/edition'}, 'identifiers': {'amazon': ['']}, 'isbn_13': ['9781250012579'], 'ocaid': 'eleanorpark0000rowe_u6h3', 'classifications': {}, 'languages': [{'key': '/languages/eng'}], 'covers': [12701134], 'lccn': ['2012042136'], 'lc_classifications': ['PZ7.R79613 Ele 2013'], 'oclc_numbers': ['819860760'], 'source_records': ['marc:marc_scms/20220805_ADAM_MARC_records.mrc:13146370:2783', 'promise:bwb_daily_pallets_2020-04-02', 'marc:marc_nuls/NULS_PHC_180925.mrc:306485825:2002'], 'local_id': ['urn:scms:0188600545589', 'urn:bwbsku:364-BAA-350'], 'number_of_pages': 328, 'latest_revision': 7, 'revision': 7, 'created': {'type': '/type/datetime', 'value': '2022-03-31T18:18:18.582132'}, 'last_modified': {'type': '/type/datetime', 'value': '2023-03-08T12:08:56.711911'}}\n"
     ]
    }
   ],
   "source": [
    "print(response.json())"
   ]
  },
  {
   "cell_type": "code",
   "execution_count": 52,
   "metadata": {},
   "outputs": [],
   "source": [
    "to_parse = response.json()"
   ]
  },
  {
   "cell_type": "code",
   "execution_count": 53,
   "metadata": {},
   "outputs": [
    {
     "name": "stdout",
     "output_type": "stream",
     "text": [
      "works : [{'key': '/works/OL16803752W'}]\n",
      "title : Eleanor & Park\n",
      "publishers : [\"St. Martin's Griffin\"]\n",
      "publish_date : 2013\n",
      "key : /books/OL37793627M\n",
      "type : {'key': '/type/edition'}\n",
      "identifiers : {'amazon': ['']}\n",
      "isbn_13 : ['9781250012579']\n",
      "ocaid : eleanorpark0000rowe_u6h3\n",
      "classifications : {}\n",
      "languages : [{'key': '/languages/eng'}]\n",
      "covers : [12701134]\n",
      "lccn : ['2012042136']\n",
      "lc_classifications : ['PZ7.R79613 Ele 2013']\n",
      "oclc_numbers : ['819860760']\n",
      "source_records : ['marc:marc_scms/20220805_ADAM_MARC_records.mrc:13146370:2783', 'promise:bwb_daily_pallets_2020-04-02', 'marc:marc_nuls/NULS_PHC_180925.mrc:306485825:2002']\n",
      "local_id : ['urn:scms:0188600545589', 'urn:bwbsku:364-BAA-350']\n",
      "number_of_pages : 328\n",
      "latest_revision : 7\n",
      "revision : 7\n",
      "created : {'type': '/type/datetime', 'value': '2022-03-31T18:18:18.582132'}\n",
      "last_modified : {'type': '/type/datetime', 'value': '2023-03-08T12:08:56.711911'}\n"
     ]
    }
   ],
   "source": [
    "for key, value in to_parse.items():\n",
    "    print(key, ':', value)"
   ]
  },
  {
   "cell_type": "code",
   "execution_count": 19,
   "metadata": {},
   "outputs": [
    {
     "data": {
      "text/plain": [
       "336"
      ]
     },
     "execution_count": 19,
     "metadata": {},
     "output_type": "execute_result"
    }
   ],
   "source": [
    "num_pages = int(to_parse['pagination'])\n",
    "num_pages"
   ]
  },
  {
   "cell_type": "code",
   "execution_count": 21,
   "metadata": {},
   "outputs": [
    {
     "data": {
      "text/plain": [
       "2021"
      ]
     },
     "execution_count": 21,
     "metadata": {},
     "output_type": "execute_result"
    }
   ],
   "source": [
    "year_published = int(to_parse['publish_date'])\n",
    "year_published"
   ]
  },
  {
   "cell_type": "code",
   "execution_count": 23,
   "metadata": {},
   "outputs": [
    {
     "data": {
      "text/plain": [
       "['Pegasus Books']"
      ]
     },
     "execution_count": 23,
     "metadata": {},
     "output_type": "execute_result"
    }
   ],
   "source": [
    "to_parse['publishers']"
   ]
  },
  {
   "cell_type": "code",
   "execution_count": 25,
   "metadata": {},
   "outputs": [
    {
     "data": {
      "text/plain": [
       "'One Night, New York'"
      ]
     },
     "execution_count": 25,
     "metadata": {},
     "output_type": "execute_result"
    }
   ],
   "source": [
    "to_parse['title']"
   ]
  },
  {
   "cell_type": "code",
   "execution_count": 26,
   "metadata": {},
   "outputs": [
    {
     "data": {
      "text/plain": [
       "'0.534'"
      ]
     },
     "execution_count": 26,
     "metadata": {},
     "output_type": "execute_result"
    }
   ],
   "source": [
    "to_parse['weight']"
   ]
  },
  {
   "cell_type": "code",
   "execution_count": 27,
   "metadata": {},
   "outputs": [
    {
     "data": {
      "text/plain": [
       "'A Novel'"
      ]
     },
     "execution_count": 27,
     "metadata": {},
     "output_type": "execute_result"
    }
   ],
   "source": [
    "to_parse['subtitle']"
   ]
  },
  {
   "cell_type": "code",
   "execution_count": 28,
   "metadata": {},
   "outputs": [
    {
     "data": {
      "text/plain": [
       "'One Night, New York A Novel'"
      ]
     },
     "execution_count": 28,
     "metadata": {},
     "output_type": "execute_result"
    }
   ],
   "source": [
    "to_parse['full_title']"
   ]
  },
  {
   "cell_type": "code",
   "execution_count": 29,
   "metadata": {},
   "outputs": [
    {
     "data": {
      "text/plain": [
       "[{'key': '/works/OL21671333W'}]"
      ]
     },
     "execution_count": 29,
     "metadata": {},
     "output_type": "execute_result"
    }
   ],
   "source": [
    "to_parse['works']"
   ]
  },
  {
   "cell_type": "code",
   "execution_count": 30,
   "metadata": {},
   "outputs": [
    {
     "data": {
      "text/plain": [
       "'/books/OL35994598M'"
      ]
     },
     "execution_count": 30,
     "metadata": {},
     "output_type": "execute_result"
    }
   ],
   "source": [
    "to_parse['key']"
   ]
  },
  {
   "cell_type": "code",
   "execution_count": 32,
   "metadata": {},
   "outputs": [
    {
     "data": {
      "text/plain": [
       "2"
      ]
     },
     "execution_count": 32,
     "metadata": {},
     "output_type": "execute_result"
    }
   ],
   "source": [
    "to_parse['revision']"
   ]
  },
  {
   "cell_type": "markdown",
   "metadata": {},
   "source": [
    "# Columns I Need\n",
    "- Title\n",
    "- Author\n",
    "- "
   ]
  }
 ],
 "metadata": {
  "kernelspec": {
   "display_name": "Python 3",
   "language": "python",
   "name": "python3"
  },
  "language_info": {
   "codemirror_mode": {
    "name": "ipython",
    "version": 3
   },
   "file_extension": ".py",
   "mimetype": "text/x-python",
   "name": "python",
   "nbconvert_exporter": "python",
   "pygments_lexer": "ipython3",
   "version": "3.9.7"
  },
  "orig_nbformat": 4
 },
 "nbformat": 4,
 "nbformat_minor": 2
}
