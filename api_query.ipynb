{
 "cells": [
  {
   "cell_type": "code",
   "execution_count": 1,
   "metadata": {},
   "outputs": [],
   "source": [
    "import requests"
   ]
  },
  {
   "cell_type": "code",
   "execution_count": 10,
   "metadata": {},
   "outputs": [],
   "source": [
    "def isbn_request(isbn):\n",
    "    return f'https://openlibrary.org/isbn/{isbn}.json'"
   ]
  },
  {
   "cell_type": "code",
   "execution_count": 11,
   "metadata": {},
   "outputs": [],
   "source": [
    "my_request = isbn_request('9781643138398')"
   ]
  },
  {
   "cell_type": "code",
   "execution_count": 12,
   "metadata": {},
   "outputs": [],
   "source": [
    "response = requests.get(my_request)"
   ]
  },
  {
   "cell_type": "code",
   "execution_count": 13,
   "metadata": {},
   "outputs": [
    {
     "name": "stdout",
     "output_type": "stream",
     "text": [
      "{'type': {'key': '/type/edition'}, 'authors': [{'key': '/authors/OL8290256A'}], 'isbn_13': ['9781643138398'], 'languages': [{'key': '/languages/eng'}], 'pagination': '336', 'publish_date': '2021', 'publishers': ['Pegasus Books'], 'source_records': ['bwb:9781643138398', 'promise:bwb_daily_pallets_2023-03-10:P8-BTI-007'], 'title': 'One Night, New York', 'weight': '0.534', 'subtitle': 'A Novel', 'full_title': 'One Night, New York A Novel', 'works': [{'key': '/works/OL21671333W'}], 'key': '/books/OL35994598M', 'local_id': ['urn:bwbsku:P8-BTI-007'], 'latest_revision': 2, 'revision': 2, 'created': {'type': '/type/datetime', 'value': '2021-12-27T16:09:28.299987'}, 'last_modified': {'type': '/type/datetime', 'value': '2023-05-04T05:33:56.968068'}}\n"
     ]
    }
   ],
   "source": [
    "print(response.json())"
   ]
  }
 ],
 "metadata": {
  "kernelspec": {
   "display_name": "Python 3",
   "language": "python",
   "name": "python3"
  },
  "language_info": {
   "codemirror_mode": {
    "name": "ipython",
    "version": 3
   },
   "file_extension": ".py",
   "mimetype": "text/x-python",
   "name": "python",
   "nbconvert_exporter": "python",
   "pygments_lexer": "ipython3",
   "version": "3.9.7"
  },
  "orig_nbformat": 4
 },
 "nbformat": 4,
 "nbformat_minor": 2
}
